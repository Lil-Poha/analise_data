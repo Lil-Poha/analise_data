{
 "cells": [
  {
   "cell_type": "code",
   "execution_count": 161,
   "metadata": {},
   "outputs": [],
   "source": [
    "import pandas as pd  # для обработки данных в Python\n",
    "import sqlite3\n",
    "import contextlib"
   ]
  },
  {
   "cell_type": "markdown",
   "metadata": {},
   "source": [
    "#### Заполняем данными таблицы в базе данных sqlite\n"
   ]
  },
  {
   "cell_type": "code",
   "execution_count": 162,
   "metadata": {},
   "outputs": [],
   "source": [
    "with contextlib.closing(sqlite3.connect('mybd.db')) as connection:\n",
    "    with contextlib.closing(connection.cursor()) as cursor:\n",
    "        cursor.execute('''\n",
    "        CREATE TABLE IF NOT EXISTS billing_type(\n",
    "            id INTEGER NOT NULL,\n",
    "            billing_type TEXT NOT NULL\n",
    "            )\n",
    "        ''')"
   ]
  },
  {
   "cell_type": "code",
   "execution_count": 163,
   "metadata": {},
   "outputs": [],
   "source": [
    "import csv"
   ]
  },
  {
   "cell_type": "code",
   "execution_count": 164,
   "metadata": {},
   "outputs": [],
   "source": [
    "with contextlib.closing(sqlite3.connect('mybd.db')) as connection:\n",
    "    with contextlib.closing(connection.cursor()) as cursor:\n",
    "        with open('./billing_file/billing_type.csv', 'r') as file:\n",
    "            csv_reader = csv.reader(file)\n",
    "\n",
    "            next(csv_reader)\n",
    "\n",
    "            for row in csv_reader:\n",
    "                cursor.execute('''\n",
    "                INSERT INTO billing_type (id, billing_type) VALUES (?, ?)\n",
    "                ''', row)\n",
    "\n",
    "    connection.commit()"
   ]
  },
  {
   "cell_type": "code",
   "execution_count": 165,
   "metadata": {},
   "outputs": [],
   "source": [
    "with contextlib.closing(sqlite3.connect('mybd.db')) as connection:\n",
    "    with contextlib.closing(connection.cursor()) as cursor:\n",
    "        cursor.execute('''\n",
    "        CREATE TABLE IF NOT EXISTS persons(\n",
    "            id INTEGER NOT NULL,\n",
    "            soc_st INTEGER NOT NULL,\n",
    "            surname TEXT NOT NULL,\n",
    "            name TEXT NOT NULL,\n",
    "            patronymic TEXT NOT NULL,\n",
    "            move_template INTEGER NOT NULL,\n",
    "            mobile_operator INTEGER NOT NULL,\n",
    "            lac_id INTEGER NOT NULL,\n",
    "            cell_id INTEGER NOT NULL,\n",
    "            imsi INTEGER NOT NULL,\n",
    "            imei INTEGER NOT NULL,\n",
    "            msisdn INTEGER NOT NULL\n",
    "            )\n",
    "        ''')"
   ]
  },
  {
   "cell_type": "code",
   "execution_count": 166,
   "metadata": {},
   "outputs": [],
   "source": [
    "with contextlib.closing(sqlite3.connect('mybd.db')) as connection:\n",
    "    with contextlib.closing(connection.cursor()) as cursor:\n",
    "        with open('./billing_file/persons.csv', 'r') as file:\n",
    "            csv_reader = csv.reader(file)\n",
    "\n",
    "            next(csv_reader)\n",
    "\n",
    "            for row in csv_reader:\n",
    "                cursor.execute('''\n",
    "                INSERT INTO persons (id, soc_st, surname, name, patronymic, move_template, mobile_operator, lac_id, cell_id, imsi, imei, msisdn) VALUES (?, ?, ?, ?, ?, ?, ?, ?, ?, ?, ?, ?)\n",
    "                ''', row)\n",
    "\n",
    "    connection.commit()"
   ]
  },
  {
   "cell_type": "code",
   "execution_count": 167,
   "metadata": {},
   "outputs": [],
   "source": [
    "with contextlib.closing(sqlite3.connect('mybd.db')) as connection:\n",
    "    with contextlib.closing(connection.cursor()) as cursor:\n",
    "        cursor.execute('''\n",
    "        CREATE TABLE IF NOT EXISTS main_billing(\n",
    "            id INTEGER NOT NULL,\n",
    "            billtime TEXT NOT NULL,\n",
    "            call_duration INTEGER NOT NULL,\n",
    "            billing_type_id INTEGER NOT NULL,\n",
    "            lac_id INTEGER NOT NULL,\n",
    "            cell_id INTEGER NOT NULL,\n",
    "            phone_b INTEGER NOT NULL,\n",
    "            abonent_id INTEGER NOT NULL,\n",
    "            abonentimei INTEGER NOT NULL,\n",
    "            abonentimsi INTEGER NOT NULL,\n",
    "            abonentphone INTEGER NOT NULL,\n",
    "            reverseabonentphone INTEGER NOT NULL,\n",
    "            reversephoneb INTEGER NOT NULL\n",
    "            )\n",
    "        ''')\n"
   ]
  },
  {
   "cell_type": "code",
   "execution_count": 168,
   "metadata": {},
   "outputs": [],
   "source": [
    "with contextlib.closing(sqlite3.connect('mybd.db')) as connection:\n",
    "    with contextlib.closing(connection.cursor()) as cursor:\n",
    "        with open('./billing_file/main_billing.csv', 'r') as file:\n",
    "            csv_reader = csv.reader(file)\n",
    "\n",
    "            next(csv_reader)\n",
    "\n",
    "            for row in csv_reader:\n",
    "                cursor.execute('''\n",
    "                INSERT INTO main_billing (id, billtime, call_duration, billing_type_id, lac_id, cell_id, phone_b, abonent_id, abonentimei, abonentimsi, abonentphone, reverseabonentphone, reversephoneb) VALUES (?, ?, ?, ?, ?, ?, ?, ?, ?, ?, ?, ?, ?)\n",
    "                ''', row)\n",
    "\n",
    "    connection.commit()"
   ]
  },
  {
   "cell_type": "markdown",
   "metadata": {},
   "source": [
    "#### Создаем таблицу bank_1 и заполняем данными о людях которые были рядом с первым банкоматом"
   ]
  },
  {
   "cell_type": "code",
   "execution_count": 169,
   "metadata": {},
   "outputs": [],
   "source": [
    "with contextlib.closing(sqlite3.connect('mybd.db')) as connection:\n",
    "    with contextlib.closing(connection.cursor()) as cursor:\n",
    "        cursor.execute('''\n",
    "    CREATE TABLE bank_1 (\n",
    "\tid INTEGER NOT NULL PRIMARY KEY AUTOINCREMENT,\n",
    "\tcid INTEGER,\n",
    "\tlac INTEGER,\n",
    "\tabonent_id INTEGER\n",
    ");\n",
    "\n",
    "        ''')"
   ]
  },
  {
   "cell_type": "code",
   "execution_count": 170,
   "metadata": {},
   "outputs": [],
   "source": [
    "with contextlib.closing(sqlite3.connect('mybd.db')) as connection:\n",
    "    with contextlib.closing(connection.cursor()) as cursor:\n",
    "        cursor.execute('''\n",
    "    INSERT INTO bank_1 (cid, lac, abonent_id) \n",
    "SELECT\n",
    "    main_billing.cell_id,\n",
    "    main_billing.lac_id,\n",
    "    main_billing.abonent_id\n",
    "FROM main_billing \n",
    "WHERE lac_id = 2212 AND cell_id = 47805\n",
    "GROUP BY abonent_id;\n",
    "        ''')\n",
    "    connection.commit()"
   ]
  },
  {
   "cell_type": "markdown",
   "metadata": {},
   "source": [
    "#### Создаем таблицу bank_2 и заполняем данными о людях которые были рядом со вторым банкоматом"
   ]
  },
  {
   "cell_type": "code",
   "execution_count": 171,
   "metadata": {},
   "outputs": [],
   "source": [
    "with contextlib.closing(sqlite3.connect('mybd.db')) as connection:\n",
    "    with contextlib.closing(connection.cursor()) as cursor:\n",
    "        cursor.execute('''\n",
    "    CREATE TABLE bank_2 (\n",
    "\tid INTEGER NOT NULL PRIMARY KEY AUTOINCREMENT,\n",
    "\tcid INTEGER,\n",
    "\tlac INTEGER,\n",
    "\tabonent_id INTEGER\n",
    ");\n",
    "\n",
    "        ''')"
   ]
  },
  {
   "cell_type": "code",
   "execution_count": 172,
   "metadata": {},
   "outputs": [],
   "source": [
    "with contextlib.closing(sqlite3.connect('mybd.db')) as connection:\n",
    "    with contextlib.closing(connection.cursor()) as cursor:\n",
    "        cursor.execute('''\n",
    "    INSERT INTO bank_2 (cid, lac, abonent_id) \n",
    "SELECT\n",
    "    main_billing.cell_id,\n",
    "    main_billing.lac_id,\n",
    "    main_billing.abonent_id\n",
    "FROM main_billing \n",
    "WHERE (lac_id = 3907 AND cell_id = 3134) \n",
    "   OR (lac_id = 2212 AND cell_id = 37111) \n",
    "   OR (lac_id = 2212 AND cell_id = 47536)\n",
    "GROUP BY abonent_id;\n",
    "        ''')\n",
    "    connection.commit()"
   ]
  },
  {
   "cell_type": "markdown",
   "metadata": {},
   "source": [
    "#### Создаем таблицу bank_3 и заполняем данными о людях которые были рядом с третьем банкоматом"
   ]
  },
  {
   "cell_type": "code",
   "execution_count": 173,
   "metadata": {},
   "outputs": [],
   "source": [
    "with contextlib.closing(sqlite3.connect('mybd.db')) as connection:\n",
    "    with contextlib.closing(connection.cursor()) as cursor:\n",
    "        cursor.execute('''\n",
    "    CREATE TABLE bank_3 (\n",
    "\tid INTEGER NOT NULL PRIMARY KEY AUTOINCREMENT,\n",
    "\tcid INTEGER,\n",
    "\tlac INTEGER,\n",
    "\tabonent_id INTEGER\n",
    ");\n",
    "        ''')"
   ]
  },
  {
   "cell_type": "code",
   "execution_count": 174,
   "metadata": {},
   "outputs": [],
   "source": [
    "with contextlib.closing(sqlite3.connect('mybd.db')) as connection:\n",
    "    with contextlib.closing(connection.cursor()) as cursor:\n",
    "        cursor.execute('''\n",
    "    INSERT INTO bank_3 (cid, lac, abonent_id) \n",
    "SELECT\n",
    "    main_billing.cell_id,\n",
    "    main_billing.lac_id,\n",
    "    main_billing.abonent_id\n",
    "FROM main_billing \n",
    "WHERE lac_id = 3907 AND cell_id = 39781\n",
    "GROUP BY abonent_id;\n",
    "        ''')\n",
    "    connection.commit()"
   ]
  },
  {
   "cell_type": "code",
   "execution_count": 175,
   "metadata": {},
   "outputs": [],
   "source": [
    "with contextlib.closing(sqlite3.connect('mybd.db')) as connection:\n",
    "    with contextlib.closing(connection.cursor()) as cursor:\n",
    "        cursor.execute('''\n",
    "    CREATE TABLE bank_crime_people (\n",
    "\tid INTEGER NOT NULL PRIMARY KEY AUTOINCREMENT,\n",
    "\tabonent_id INTEGER\n",
    ");\n",
    "        ''')"
   ]
  },
  {
   "cell_type": "markdown",
   "metadata": {},
   "source": [
    "#### Выводим список тех людей, которые были во всех трех точках. Их будем считать подозреваевыми\n"
   ]
  },
  {
   "cell_type": "code",
   "execution_count": 176,
   "metadata": {},
   "outputs": [],
   "source": [
    "with contextlib.closing(sqlite3.connect('mybd.db')) as connection:\n",
    "    with contextlib.closing(connection.cursor()) as cursor:\n",
    "        cursor.execute('''\n",
    "    INSERT INTO bank_crime_people (abonent_id) \n",
    "    SELECT DISTINCT b1.abonent_id\n",
    "    FROM bank_1 b1\n",
    "    INNER JOIN bank_2 b2 ON b1.abonent_id = b2.abonent_id\n",
    "    INNER JOIN bank_3 b3 ON b1.abonent_id = b3.abonent_id;\n",
    "        ''')\n",
    "    connection.commit()"
   ]
  },
  {
   "cell_type": "code",
   "execution_count": 177,
   "metadata": {},
   "outputs": [],
   "source": [
    "with contextlib.closing(sqlite3.connect('mybd.db')) as connection:\n",
    "    with contextlib.closing(connection.cursor()) as cursor:\n",
    "        cursor.execute('''\n",
    "    CREATE TABLE info_all_bank (\n",
    "\tid INTEGER NOT NULL PRIMARY KEY AUTOINCREMENT,\n",
    "    billtime TEXT NOT NULL,\n",
    "\tabonent_id INTEGER,\n",
    "    phone_b INTEGER\n",
    ");\n",
    "        ''')"
   ]
  },
  {
   "cell_type": "markdown",
   "metadata": {},
   "source": [
    "#### Составим список тех кому звонили подозреваемые\n"
   ]
  },
  {
   "cell_type": "code",
   "execution_count": 178,
   "metadata": {},
   "outputs": [],
   "source": [
    "with contextlib.closing(sqlite3.connect('mybd.db')) as connection:\n",
    "    with contextlib.closing(connection.cursor()) as cursor:\n",
    "        cursor.execute('''\n",
    "    INSERT INTO info_all_bank (billtime, abonent_id, phone_b) \n",
    "    SELECT \n",
    "        mb.billtime,\n",
    "        mb.abonent_id,\n",
    "        mb.phone_b\n",
    "    FROM \n",
    "        main_billing mb\n",
    "    JOIN \n",
    "        bank_crime_people bcp ON mb.abonent_id = bcp.abonent_id AND mb.phone_b <> 0;\n",
    "        ''')\n",
    "    connection.commit()"
   ]
  },
  {
   "cell_type": "markdown",
   "metadata": {},
   "source": [
    "#### Список людей которые звонили всем подозреваемым"
   ]
  },
  {
   "cell_type": "code",
   "execution_count": 179,
   "metadata": {},
   "outputs": [],
   "source": [
    "with contextlib.closing(sqlite3.connect('mybd.db')) as connection:\n",
    "    with contextlib.closing(connection.cursor()) as cursor:\n",
    "        cursor.execute('''\n",
    "    CREATE TABLE crime_phone (\n",
    "\tid INTEGER NOT NULL PRIMARY KEY AUTOINCREMENT,\n",
    "    phone_b INTEGER NOT NULL,\n",
    "    kol_number INTEGER\n",
    ");\n",
    "        ''')"
   ]
  },
  {
   "cell_type": "code",
   "execution_count": 180,
   "metadata": {},
   "outputs": [],
   "source": [
    "with contextlib.closing(sqlite3.connect('mybd.db')) as connection:\n",
    "    with contextlib.closing(connection.cursor()) as cursor:\n",
    "        cursor.execute('''\n",
    "        INSERT INTO crime_phone (phone_b, kol_number) \n",
    "        SELECT phone_b, COUNT(DISTINCT abonent_id) AS unique_abonent_count\n",
    "        FROM info_all_bank\n",
    "        GROUP BY phone_b\n",
    "        ORDER BY unique_abonent_count DESC;\n",
    "        ''')\n",
    "    connection.commit()"
   ]
  },
  {
   "cell_type": "code",
   "execution_count": 182,
   "metadata": {},
   "outputs": [
    {
     "name": "stdout",
     "output_type": "stream",
     "text": [
      "Водитель: (1, 79822335369, 5)\n"
     ]
    }
   ],
   "source": [
    "with contextlib.closing(sqlite3.connect('mybd.db')) as connection:\n",
    "    with contextlib.closing(connection.cursor()) as cursor:\n",
    "        cursor.execute('''\n",
    "        SELECT * FROM crime_phone\n",
    "        ''')\n",
    "        print(\"Водитель:\", cursor.fetchall()[0])"
   ]
  },
  {
   "cell_type": "markdown",
   "metadata": {},
   "source": [
    "79822335369 - водитель так как он звонил пятерым людям, что по условию задачу является единственным подходящим нам вариантом."
   ]
  },
  {
   "cell_type": "code",
   "execution_count": 183,
   "metadata": {},
   "outputs": [],
   "source": [
    "with contextlib.closing(sqlite3.connect('mybd.db')) as connection:\n",
    "    with contextlib.closing(connection.cursor()) as cursor:\n",
    "        cursor.execute('''\n",
    "    CREATE TABLE five_bad_boys (\n",
    "\tid INTEGER NOT NULL PRIMARY KEY AUTOINCREMENT,\n",
    "    abonent_id INTEGER NOT NULL,\n",
    "    abonentphone INTEGER,\n",
    "    surname TEXT,\n",
    "    name TEXT,\n",
    "    patronymic TEXT\n",
    ");\n",
    "        ''')"
   ]
  },
  {
   "cell_type": "code",
   "execution_count": 184,
   "metadata": {},
   "outputs": [
    {
     "name": "stdout",
     "output_type": "stream",
     "text": [
      "Водитель: ('Василий', 'Сафонов', 'Вадимович', 79822335369, 18567)\n"
     ]
    }
   ],
   "source": [
    "with contextlib.closing(sqlite3.connect('mybd.db')) as connection:\n",
    "    with contextlib.closing(connection.cursor()) as cursor:\n",
    "        cursor.execute('''\n",
    "    SELECT p.name, surname, patronymic, msisdn,p.rowid FROM persons AS p\n",
    "    WHERE msisdn IN (79822335369)\n",
    "        ''')\n",
    "        print(\"Водитель:\", cursor.fetchall()[0])"
   ]
  },
  {
   "cell_type": "markdown",
   "metadata": {},
   "source": [
    "#### Выведем список всех людей, кому звонил водитель"
   ]
  },
  {
   "cell_type": "code",
   "execution_count": 185,
   "metadata": {},
   "outputs": [],
   "source": [
    "with contextlib.closing(sqlite3.connect('mybd.db')) as connection:\n",
    "    with contextlib.closing(connection.cursor()) as cursor:\n",
    "        cursor.execute('''\n",
    "        INSERT INTO five_bad_boys (abonent_id, abonentphone) \n",
    "        SELECT DISTINCT \n",
    "            i.abonent_id,\n",
    "            m.abonentphone\n",
    "        FROM \n",
    "            info_all_bank i\n",
    "        JOIN \n",
    "            main_billing m ON i.abonent_id = m.abonent_id\n",
    "        WHERE \n",
    "            i.phone_b = 79822335369;\n",
    "        ''')\n",
    "        connection.commit()"
   ]
  },
  {
   "cell_type": "code",
   "execution_count": 186,
   "metadata": {},
   "outputs": [],
   "source": [
    "with contextlib.closing(sqlite3.connect('mybd.db')) as connection:\n",
    "    with contextlib.closing(connection.cursor()) as cursor:\n",
    "        cursor.execute('''\n",
    "        UPDATE five_bad_boys\n",
    "        SET \n",
    "            surname = p.surname,\n",
    "            name = p.name,\n",
    "            patronymic = p.patronymic\n",
    "        FROM \n",
    "            five_bad_boys f\n",
    "        JOIN \n",
    "            persons p ON f.abonentphone = p.msisdn\n",
    "        WHERE \n",
    "            five_bad_boys.abonent_id = f.abonent_id\n",
    "        ''')\n",
    "        connection.commit()"
   ]
  },
  {
   "cell_type": "code",
   "execution_count": 187,
   "metadata": {},
   "outputs": [
    {
     "name": "stdout",
     "output_type": "stream",
     "text": [
      "(1, 44768, 79822479258, 'Ларин', 'Юрий', 'Сергеевич')\n",
      "(2, 44192, 79122476074, 'Селиванов', 'Тимур', 'Вадимович')\n",
      "(3, 48962, 79122502276, 'Круглов', 'Владимир', 'Владимирович')\n",
      "(4, 49538, 79822505444, 'Зимин', 'Алексей', 'Тимофей')\n",
      "(5, 44336, 79122476874, 'Никулин', 'Петр', 'Владимирович')\n"
     ]
    }
   ],
   "source": [
    "with contextlib.closing(sqlite3.connect('mybd.db')) as connection:\n",
    "    with contextlib.closing(connection.cursor()) as cursor:\n",
    "        cursor.execute('''\n",
    "        SELECT * FROM five_bad_boys\n",
    "        ''')\n",
    "        a = cursor.fetchall()\n",
    "        for i in a:\n",
    "            print(i)"
   ]
  },
  {
   "cell_type": "markdown",
   "metadata": {},
   "source": [
    "#### Эти люди и есть грабители"
   ]
  }
 ],
 "metadata": {
  "kernelspec": {
   "display_name": "venv",
   "language": "python",
   "name": "python3"
  },
  "language_info": {
   "codemirror_mode": {
    "name": "ipython",
    "version": 3
   },
   "file_extension": ".py",
   "mimetype": "text/x-python",
   "name": "python",
   "nbconvert_exporter": "python",
   "pygments_lexer": "ipython3",
   "version": "3.12.3"
  }
 },
 "nbformat": 4,
 "nbformat_minor": 2
}
